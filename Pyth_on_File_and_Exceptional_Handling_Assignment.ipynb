{
  "nbformat": 4,
  "nbformat_minor": 0,
  "metadata": {
    "colab": {
      "provenance": []
    },
    "kernelspec": {
      "name": "python3",
      "display_name": "Python 3"
    },
    "language_info": {
      "name": "python"
    }
  },
  "cells": [
    {
      "cell_type": "code",
      "execution_count": null,
      "metadata": {
        "id": "OJ5-Rq_2fHoQ"
      },
      "outputs": [],
      "source": []
    },
    {
      "cell_type": "markdown",
      "source": [
        "# **Assignment Of File & Exceptional Handling**⭐\n",
        "\n",
        "\n",
        "###1. What is the difference between interpreted and compiled languages?\n",
        "\n",
        " > Compiled languages (like C++) are translated directly into machine code before execution, resulting in faster performance. Interpreted languages (like Python) are executed line by line by an interpreter, making them more flexible but generally slower\n",
        "\n",
        "### 2.What is exception handling in Python?\n",
        "  \n",
        "  > Exception handling is a mechanism to deal with errors or unexpected events that occur during program execution. It allows the program to continue running even if an error occurs.\n",
        "\n",
        "### 3.What is the purpose of the finally block in exception handling?\n",
        "\n",
        "  > The finally block contains code that will always be executed, regardless of whether an exception occurred or not. It's typically used for cleanup operations like closing files or releasing resources.\n",
        "\n",
        "### 4.What is logging in Python?\n",
        "  > Logging is a way to record events that occur during the execution of a program. It helps in debugging, monitoring, and understanding the program's behavior.\n",
        "\n",
        "###5.What is the significance of the __del__ method in Python?\n",
        "  >The _del_ method (destructor) is called when an object is about to be garbage collected. It's used to release resources held by the object. However, its usage is discouraged due to potential issues with garbage collection cycles.\n",
        "\n",
        "###6.What is the difference between import and from ... import in Python?\n",
        "  >import module imports the entire module, and you access its functions/classes using module.function(). from module import function imports specific items directly, so you can use them without the module prefix.\n",
        "\n",
        "###7. How can you handle multiple exceptions in Python?\n",
        "  >You can handle multiple exceptions using multiple except blocks, specifying different exception types for each block:\n",
        "  try:\n",
        "    # code that might raise exceptions\n",
        "  except ValueError:\n",
        "    # handle ValueError\n",
        "  except TypeError:\n",
        "    # handle TypeError\n",
        "  except Exception as e:\n",
        "    # handle other exceptions\n",
        "\n",
        "###8.What is the purpose of the with statement when handling files in Python?\n",
        "  >The with statement ensures that resources (like files) are properly managed. It automatically closes the file when the block is exited, even if exceptions occur.\n",
        "\n",
        "###9.What is the difference between multithreading and multiprocessing?\n",
        "  >Multithreading runs multiple threads within a single process, sharing the same memory space. Multiprocessing runs multiple processes, each with its own memory space. Multiprocessing is better for CPU-bound tasks, while multithreading is better for I/O-bound tasks.\n",
        "\n",
        "###10.What are the advantages of using logging in a program?\n",
        "  >Logging helps in debugging, provides a history of program execution, allows filtering of messages based on severity, and aids in monitoring and analyzing program behavior.\n",
        "\n",
        "###11.What is memory management in Python?\n",
        "  >Memory management in Python involves allocating and deallocating memory for objects. Python uses automatic memory management through garbage collection.\n",
        "\n",
        "###12.What are the basic steps involved in exception handling in Python?\n",
        "   >The basic steps are:\n",
        " * Enclose code that might raise an exception in a try block.\n",
        " * Use except blocks to handle specific exceptions.\n",
        " * Optionally, use a finally block for cleanup.\n",
        "\n",
        "###13.Why is memory management important in Python?\n",
        "   >Efficient memory management prevents memory leaks and ensures that the program uses resources effectively, leading to better performance and stability.\n",
        "\n",
        "###14.What is the role of try and except in exception handling?\n",
        "   >The try block contains the code that might raise an exception. The except block specifies how to handle the exception if it occurs.\n",
        "\n",
        "###15.F How does Python's garbage collection system work?\n",
        "   >Python uses automatic garbage collection, primarily reference counting. When an object's reference count drops to zero, it is deallocated. It also uses a cyclic garbage collector to handle objects involved in reference cycles.\n",
        "\n",
        "###16.What is the purpose of the else block in exception handling?\n",
        "  >The else block is executed if no exceptions are raised in the try block. It's used for code that should only run if the try block succeeds.\n",
        "\n",
        "###17.What are the common logging levels in Python?\n",
        "  >The common logging levels are:\n",
        " * DEBUG\n",
        " * INFO\n",
        " * WARNING\n",
        " * ERROR\n",
        " * CRITICAL\n",
        "\n",
        "###18.What is the difference between os.fork() and multiprocessing in Python?\n",
        " >os.fork() creates a child process that is a copy of the parent process, sharing the same memory space initially (on Unix-like systems). multiprocessing creates independent processes with separate memory spaces. multiprocessing is generally preferred for cross-platform compatibility.\n",
        "\n",
        "###19.What is the importance of closing a file in Python?\n",
        "  >Closing a file releases the resources held by the file, such as file handles and buffers. It ensures that data is written to the file and prevents data corruption or resource leaks.\n",
        "\n",
        "###20.What is the difference between file.read() and file.readline() in Python?\n",
        "  >file.read() reads the entire file content as a single string. file.readline() reads a single line from the file, including the newline character.\n",
        "\n",
        "###21.What is the logging module in Python used for?\n",
        "  >The logging module provides a flexible framework for emitting log messages from Python programs, allowing developers to control the level and destination of log messages.\n",
        "\n",
        "###22.What is the os module in Python used for in file handling?\n",
        "  >The os module provides functions for interacting with the operating system, including file and directory manipulation (e.g., creating, deleting, renaming files, changing directories).\n",
        "\n",
        "###23.What are the challenges associated with memory management in Python?\n",
        "  >Challenges include dealing with circular references, optimizing memory usage for large data structures, and understanding the nuances of the garbage collection process.\n",
        "\n",
        "###24.How do you raise an exception manually in Python?\n",
        "  >You can raise an exception using the raise keyword, followed by the exception type and an optional message:\n",
        "  raise ValueError(\"Invalid input\").\n",
        "\n",
        "###25.Why is it important to use multithreading in certain applications?\n",
        "  > Multithreading can improve performance in I/O-bound applications by allowing the program to perform other tasks while waiting for I/O operations to complete. It can also enhance responsiveness in GUI applications.\n",
        "\n",
        "\n",
        "\n",
        "#**Pratical Question** ⭐\n",
        "\n",
        "###1.How can you open a file for writing in Python and write a string to it?\n",
        "\n",
        "\n",
        "\n",
        "\n",
        "\n",
        "\n",
        "\n"
      ],
      "metadata": {
        "id": "oo5rBGivgJfd"
      }
    },
    {
      "cell_type": "code",
      "source": [
        "with open(\"my_file.txt\", \"w\") as f:\n",
        "    print((f.write(\"Hello, world!\")))"
      ],
      "metadata": {
        "colab": {
          "base_uri": "https://localhost:8080/"
        },
        "id": "mvZW_qlb8MN-",
        "outputId": "48f0d40b-2dd8-47ef-9131-093631622870"
      },
      "execution_count": null,
      "outputs": [
        {
          "output_type": "stream",
          "name": "stdout",
          "text": [
            "13\n"
          ]
        }
      ]
    },
    {
      "cell_type": "markdown",
      "source": [
        "###2.Write a Python program to read the contents of a file and print each line?\n"
      ],
      "metadata": {
        "id": "6GDHJEs68j_Y"
      }
    },
    {
      "cell_type": "code",
      "source": [
        "with open(\"my_file.txt\", \"r\") as f:\n",
        "    for line in f:\n",
        "        print(line, end=\"\")"
      ],
      "metadata": {
        "colab": {
          "base_uri": "https://localhost:8080/"
        },
        "id": "58YpWK9L8uXl",
        "outputId": "bd4795c8-3358-4537-aeac-3821f127a6bb"
      },
      "execution_count": null,
      "outputs": [
        {
          "output_type": "stream",
          "name": "stdout",
          "text": [
            "Hello, world!"
          ]
        }
      ]
    },
    {
      "cell_type": "markdown",
      "source": [
        "###3.How would you handle a case where the file doesn't exist while trying to open it for reading?"
      ],
      "metadata": {
        "id": "Ptl1BsbW80qp"
      }
    },
    {
      "cell_type": "code",
      "source": [
        "try:\n",
        "    with open(\"nonexistent_file.txt\", \"r\") as f:\n",
        "        content = f.read()\n",
        "except FileNotFoundError:\n",
        "    print(\"File not found.\")"
      ],
      "metadata": {
        "colab": {
          "base_uri": "https://localhost:8080/"
        },
        "id": "yfIOEuoX8-3v",
        "outputId": "8109af75-e1ed-42aa-f704-9449889a04ca"
      },
      "execution_count": null,
      "outputs": [
        {
          "output_type": "stream",
          "name": "stdout",
          "text": [
            "File not found.\n"
          ]
        }
      ]
    },
    {
      "cell_type": "markdown",
      "source": [
        "###4.Write a Python script that reads from one file and writes its content to another file?"
      ],
      "metadata": {
        "id": "zBq0ZL5r9HH8"
      }
    },
    {
      "cell_type": "code",
      "source": [
        "with open(\"my_file.txt\", \"r\") as source, open(\"destination.txt\", \"w\") as dest:\n",
        "    dest.write(source.read())\n",
        "    with open(\"my_file.txt\", \"r\") as source, open(\"destination.txt\", \"w\") as dest:\n",
        "        print(dest.write(source.read()))\n",
        "\n",
        "    with open(\"destination.txt\", \"r\") as dest:\n",
        "        print(dest.read())"
      ],
      "metadata": {
        "colab": {
          "base_uri": "https://localhost:8080/"
        },
        "id": "pq107Ccn9MoX",
        "outputId": "08012bd1-d013-4f35-c7da-73f7986e7167"
      },
      "execution_count": null,
      "outputs": [
        {
          "output_type": "stream",
          "name": "stdout",
          "text": [
            "13\n",
            "Hello, world!\n"
          ]
        }
      ]
    },
    {
      "cell_type": "markdown",
      "source": [
        "###5. How would you catch and handle division by zero error in Python?"
      ],
      "metadata": {
        "id": "p0J2ShTz9TrA"
      }
    },
    {
      "cell_type": "code",
      "source": [
        "try:\n",
        "    result = 10 / 0\n",
        "except ZeroDivisionError:\n",
        "    print(\"Cannot divide by zero.\")"
      ],
      "metadata": {
        "colab": {
          "base_uri": "https://localhost:8080/"
        },
        "id": "uv1RVywC9akl",
        "outputId": "c8473b95-b83f-491c-eb3b-09f689ce6d4d"
      },
      "execution_count": null,
      "outputs": [
        {
          "output_type": "stream",
          "name": "stdout",
          "text": [
            "Cannot divide by zero.\n"
          ]
        }
      ]
    },
    {
      "cell_type": "markdown",
      "source": [
        "###6.Write a Python program that logs an error message to a log file when a division by zero exception occurs?"
      ],
      "metadata": {
        "id": "B-UKblBc9jET"
      }
    },
    {
      "cell_type": "code",
      "source": [
        "import logging\n",
        "\n",
        "logging.basicConfig(filename='error.log', level=logging.ERROR)\n",
        "\n",
        "try:\n",
        "    result = 10 / 0\n",
        "except ZeroDivisionError:\n",
        "    logging.error(\"Division by zero occurred.\")"
      ],
      "metadata": {
        "colab": {
          "base_uri": "https://localhost:8080/"
        },
        "id": "Lt6wZS1N9qJG",
        "outputId": "1d42c16c-74a0-4689-915c-2a4c9d91cdee"
      },
      "execution_count": null,
      "outputs": [
        {
          "output_type": "stream",
          "name": "stderr",
          "text": [
            "ERROR:root:Division by zero occurred.\n"
          ]
        }
      ]
    },
    {
      "cell_type": "markdown",
      "source": [
        "###7. How do you log information at different levels (INFO, ERROR, WARNING) in Python using the logging module?"
      ],
      "metadata": {
        "id": "pvYXbVkh9zMP"
      }
    },
    {
      "cell_type": "code",
      "source": [
        "import logging\n",
        "\n",
        "logging.basicConfig(level=logging.INFO)\n",
        "\n",
        "logging.info(\"This is an info message.\")\n",
        "logging.warning(\"This is a warning message.\")\n",
        "logging.error(\"This is an error message.\")"
      ],
      "metadata": {
        "colab": {
          "base_uri": "https://localhost:8080/"
        },
        "id": "UMHRUW3x96Cc",
        "outputId": "81ea8b19-a890-4e81-d183-9f57afaac46b"
      },
      "execution_count": null,
      "outputs": [
        {
          "output_type": "stream",
          "name": "stderr",
          "text": [
            "WARNING:root:This is a warning message.\n",
            "ERROR:root:This is an error message.\n"
          ]
        }
      ]
    },
    {
      "cell_type": "markdown",
      "source": [
        "###8.Write a program to handle a file opening error using exception handling?"
      ],
      "metadata": {
        "id": "1Q32q4c99__D"
      }
    },
    {
      "cell_type": "code",
      "source": [
        "try:\n",
        "    with open(\"unknown.txt\", \"r\") as f:\n",
        "        content = f.read()\n",
        "except FileNotFoundError:\n",
        "    print(\"File could not be opened.\")"
      ],
      "metadata": {
        "colab": {
          "base_uri": "https://localhost:8080/"
        },
        "id": "rL4-rbB2-W-w",
        "outputId": "d0759c6f-7b78-40d1-aeca-633920ed5c68"
      },
      "execution_count": null,
      "outputs": [
        {
          "output_type": "stream",
          "name": "stdout",
          "text": [
            "File could not be opened.\n"
          ]
        }
      ]
    },
    {
      "cell_type": "markdown",
      "source": [
        "###9.How can you read a file line by line and store its content in a list in Python?"
      ],
      "metadata": {
        "id": "IFvX5Dum-ot7"
      }
    },
    {
      "cell_type": "code",
      "source": [
        "lines = []\n",
        "with open(\"my_file.txt\", \"r\") as f:\n",
        "  with open(\"my_file.txt\", \"r\") as f:\n",
        "    lines = []\n",
        "    for line in f:\n",
        "        lines.append(line.strip())\n",
        "        print(lines)\n",
        "        print(line)"
      ],
      "metadata": {
        "colab": {
          "base_uri": "https://localhost:8080/"
        },
        "id": "-kNrvkDX-uuu",
        "outputId": "b1786ede-2f45-4b75-e70a-33cbc4a2df3a"
      },
      "execution_count": null,
      "outputs": [
        {
          "output_type": "stream",
          "name": "stdout",
          "text": [
            "['Hello, world!']\n",
            "Hello, world!\n"
          ]
        }
      ]
    },
    {
      "cell_type": "markdown",
      "source": [
        "###10.How can you append data to an existing file in Python?"
      ],
      "metadata": {
        "id": "UiuUcxn9-17C"
      }
    },
    {
      "cell_type": "code",
      "source": [
        "with open(\"my_file.txt\", \"a\") as f:\n",
        "    f.write(\"New data to append.\")\n",
        "with open(\"my_file.txt\", \"r\") as f:\n",
        "    content=f.read()\n",
        "    print(content)"
      ],
      "metadata": {
        "colab": {
          "base_uri": "https://localhost:8080/"
        },
        "id": "_qgpPZlY-6Sq",
        "outputId": "6e79cd13-66c7-4669-dde0-80f0c6289d3f"
      },
      "execution_count": null,
      "outputs": [
        {
          "output_type": "stream",
          "name": "stdout",
          "text": [
            "Hello, world!New data to append.\n"
          ]
        }
      ]
    },
    {
      "cell_type": "markdown",
      "source": [
        "###11.Write a Python program that uses a try-except block to handle an error when attempting to access a dictionary key that doesn't exist?\n",
        "\n"
      ],
      "metadata": {
        "id": "LKl64DBn_DyN"
      }
    },
    {
      "cell_type": "code",
      "source": [
        "my_dict = {\"a\": 1, \"b\": 2}\n",
        "try:\n",
        "    value = my_dict[\"c\"]\n",
        "except KeyError:\n",
        "    print(\"Key not found.\")"
      ],
      "metadata": {
        "colab": {
          "base_uri": "https://localhost:8080/"
        },
        "id": "fcWbdGCV_O9p",
        "outputId": "d6e86b3e-4d31-431f-8fa4-4b83689b5517"
      },
      "execution_count": null,
      "outputs": [
        {
          "output_type": "stream",
          "name": "stdout",
          "text": [
            "Key not found.\n"
          ]
        }
      ]
    },
    {
      "cell_type": "markdown",
      "source": [
        "###12.Write a program that demonstrates using multiple except blocks to handle different types of exceptions?"
      ],
      "metadata": {
        "id": "agaPKeKi_WBe"
      }
    },
    {
      "cell_type": "code",
      "source": [
        "try:\n",
        "    value = int(\"abc\")\n",
        "    result = 10 / 0\n",
        "except ValueError:\n",
        "    print(\"Invalid value.\")\n",
        "except ZeroDivisionError:\n",
        "    print(\"Cannot divide by zero.\")"
      ],
      "metadata": {
        "colab": {
          "base_uri": "https://localhost:8080/"
        },
        "id": "cMqohdNF_bwV",
        "outputId": "21c8dd9f-ca7c-440c-ad61-66c8473073d9"
      },
      "execution_count": null,
      "outputs": [
        {
          "output_type": "stream",
          "name": "stdout",
          "text": [
            "Invalid value.\n"
          ]
        }
      ]
    },
    {
      "cell_type": "markdown",
      "source": [
        "###13.How would you check if a file exists before attempting to read it in Python?"
      ],
      "metadata": {
        "id": "NLbQemgc_hpW"
      }
    },
    {
      "cell_type": "code",
      "source": [
        "import os\n",
        "\n",
        "if os.path.exists(\"my_file.txt\"):\n",
        "    with open(\"my_file.txt\", \"r\") as f:\n",
        "        content = f.read()\n",
        "        print(\"File is exist\")\n",
        "else:\n",
        "    print(\"File does not exist.\")"
      ],
      "metadata": {
        "colab": {
          "base_uri": "https://localhost:8080/"
        },
        "id": "DDHYMJTv_ye0",
        "outputId": "892f84e3-45c1-4250-a081-c910b988f498"
      },
      "execution_count": null,
      "outputs": [
        {
          "output_type": "stream",
          "name": "stdout",
          "text": [
            "File is exist\n"
          ]
        }
      ]
    },
    {
      "cell_type": "markdown",
      "source": [
        "###14.Write a program that uses the logging module to log both informational and error messages?"
      ],
      "metadata": {
        "id": "g8gCziUL_4Cx"
      }
    },
    {
      "cell_type": "code",
      "source": [
        "import logging\n",
        "\n",
        "logging.basicConfig(level=logging.INFO)\n",
        "\n",
        "logging.info(\"Program started.\")\n",
        "try:\n",
        "    result = 10 / 0\n",
        "except ZeroDivisionError:\n",
        "    logging.error(\"Division by zero occurred.\")"
      ],
      "metadata": {
        "colab": {
          "base_uri": "https://localhost:8080/"
        },
        "id": "3Ct0BMa2AQ_x",
        "outputId": "67a680da-df09-4d68-ce94-b88a7ff6d36a"
      },
      "execution_count": null,
      "outputs": [
        {
          "output_type": "stream",
          "name": "stderr",
          "text": [
            "ERROR:root:Division by zero occurred.\n"
          ]
        }
      ]
    },
    {
      "cell_type": "markdown",
      "source": [
        "###15.Write a Python program that prints the content of a file and handles the case when the file is empty?"
      ],
      "metadata": {
        "id": "2iNnVKEvAqdf"
      }
    },
    {
      "cell_type": "code",
      "source": [
        "try:\n",
        "    with open(\"my_file.txt\", \"r\") as f:\n",
        "        content = f.read()\n",
        "        if not content:\n",
        "            print(\"File is empty.\")\n",
        "        else:\n",
        "            print(content)\n",
        "except FileNotFoundError:\n",
        "    print(\"File not found.\")"
      ],
      "metadata": {
        "colab": {
          "base_uri": "https://localhost:8080/"
        },
        "id": "qLIb8q1dAxeF",
        "outputId": "1705a760-df43-4e7a-b33d-f8ff5fb1f94f"
      },
      "execution_count": null,
      "outputs": [
        {
          "output_type": "stream",
          "name": "stdout",
          "text": [
            "Hello, world!New data to append.\n"
          ]
        }
      ]
    },
    {
      "cell_type": "markdown",
      "source": [
        "###16.Demonstrate how to use memory profiling to check the memory usage of a small program?"
      ],
      "metadata": {
        "id": "SrB4dEbmA5xW"
      }
    },
    {
      "cell_type": "code",
      "source": [
        "from memory_profiler import profile\n",
        "\n",
        "@profile\n",
        "def my_function():\n",
        "    my_list = [i for i in range(1000000)]\n",
        "    return sum(my_list)\n",
        "\n",
        "my_function()"
      ],
      "metadata": {
        "colab": {
          "base_uri": "https://localhost:8080/",
          "height": 383
        },
        "id": "yGyYvCmSBBw1",
        "outputId": "465b4c9b-b35f-47eb-cf13-d7931d67eb01"
      },
      "execution_count": null,
      "outputs": [
        {
          "output_type": "error",
          "ename": "ModuleNotFoundError",
          "evalue": "No module named 'memory_profiler'",
          "traceback": [
            "\u001b[0;31m---------------------------------------------------------------------------\u001b[0m",
            "\u001b[0;31mModuleNotFoundError\u001b[0m                       Traceback (most recent call last)",
            "\u001b[0;32m<ipython-input-18-4f5a11ec5507>\u001b[0m in \u001b[0;36m<cell line: 0>\u001b[0;34m()\u001b[0m\n\u001b[0;32m----> 1\u001b[0;31m \u001b[0;32mfrom\u001b[0m \u001b[0mmemory_profiler\u001b[0m \u001b[0;32mimport\u001b[0m \u001b[0mprofile\u001b[0m\u001b[0;34m\u001b[0m\u001b[0;34m\u001b[0m\u001b[0m\n\u001b[0m\u001b[1;32m      2\u001b[0m \u001b[0;34m\u001b[0m\u001b[0m\n\u001b[1;32m      3\u001b[0m \u001b[0;34m@\u001b[0m\u001b[0mprofile\u001b[0m\u001b[0;34m\u001b[0m\u001b[0;34m\u001b[0m\u001b[0m\n\u001b[1;32m      4\u001b[0m \u001b[0;32mdef\u001b[0m \u001b[0mmy_function\u001b[0m\u001b[0;34m(\u001b[0m\u001b[0;34m)\u001b[0m\u001b[0;34m:\u001b[0m\u001b[0;34m\u001b[0m\u001b[0;34m\u001b[0m\u001b[0m\n\u001b[1;32m      5\u001b[0m     \u001b[0mmy_list\u001b[0m \u001b[0;34m=\u001b[0m \u001b[0;34m[\u001b[0m\u001b[0mi\u001b[0m \u001b[0;32mfor\u001b[0m \u001b[0mi\u001b[0m \u001b[0;32min\u001b[0m \u001b[0mrange\u001b[0m\u001b[0;34m(\u001b[0m\u001b[0;36m1000000\u001b[0m\u001b[0;34m)\u001b[0m\u001b[0;34m]\u001b[0m\u001b[0;34m\u001b[0m\u001b[0;34m\u001b[0m\u001b[0m\n",
            "\u001b[0;31mModuleNotFoundError\u001b[0m: No module named 'memory_profiler'",
            "",
            "\u001b[0;31m---------------------------------------------------------------------------\u001b[0;32m\nNOTE: If your import is failing due to a missing package, you can\nmanually install dependencies using either !pip or !apt.\n\nTo view examples of installing some common dependencies, click the\n\"Open Examples\" button below.\n\u001b[0;31m---------------------------------------------------------------------------\u001b[0m\n"
          ],
          "errorDetails": {
            "actions": [
              {
                "action": "open_url",
                "actionText": "Open Examples",
                "url": "/notebooks/snippets/importing_libraries.ipynb"
              }
            ]
          }
        }
      ]
    },
    {
      "cell_type": "markdown",
      "source": [
        "###17.Write a Python program to create and write a list of numbers to a file, one number per line?\n"
      ],
      "metadata": {
        "id": "2wXVQQ2JBbP-"
      }
    },
    {
      "cell_type": "code",
      "source": [
        "numbers = [1, 2, 3, 4, 5]\n",
        "with open(\"numbers.txt\", \"w\") as f:\n",
        "    for num in numbers:\n",
        "        f.write(str(num) + \"\\n\")\n",
        "with open(\"numbers.txt\", \"r\") as f:\n",
        "   print(f.read())"
      ],
      "metadata": {
        "colab": {
          "base_uri": "https://localhost:8080/"
        },
        "id": "DQBsehmOBveG",
        "outputId": "9166a8fa-ac97-4a7f-869f-9618bd124316"
      },
      "execution_count": null,
      "outputs": [
        {
          "output_type": "stream",
          "name": "stdout",
          "text": [
            "1\n",
            "2\n",
            "3\n",
            "4\n",
            "5\n",
            "\n"
          ]
        }
      ]
    },
    {
      "cell_type": "markdown",
      "source": [
        "###18. How would you implement a basic logging setup that logs to a file with rotation after 1MB?"
      ],
      "metadata": {
        "id": "Tl-purNiCHL_"
      }
    },
    {
      "cell_type": "code",
      "source": [
        "import logging\n",
        "from logging.handlers import RotatingFileHandler\n",
        "\n",
        "logging.basicConfig(level=logging.INFO)\n",
        "\n",
        "handler = RotatingFileHandler('app.log', maxBytes=1024*1024, backupCount=5)\n",
        "logging.getLogger('').addHandler(handler)\n",
        "\n",
        "logging.info(\"This is a log message.\")\n",
        "print(logging.info)"
      ],
      "metadata": {
        "colab": {
          "base_uri": "https://localhost:8080/"
        },
        "id": "qVYLVRWBCTAg",
        "outputId": "1e82bfd9-72ec-44db-9bc9-0e06ae86a4d2"
      },
      "execution_count": null,
      "outputs": [
        {
          "output_type": "stream",
          "name": "stdout",
          "text": [
            "<function info at 0x7bb73a290860>\n"
          ]
        }
      ]
    },
    {
      "cell_type": "markdown",
      "source": [
        "###19.Write a program that handles both IndexError and KeyError using a try-except block?"
      ],
      "metadata": {
        "id": "i67pms1KCaAm"
      }
    },
    {
      "cell_type": "code",
      "source": [
        "my_list = [1, 2, 3]\n",
        "my_dict = {\"a\": 1, \"b\": 2}\n",
        "try:\n",
        "    value1 = my_list[5]\n",
        "    value2 = my_dict[\"c\"]\n",
        "except IndexError:\n",
        "    print(\"Index out of range.\")\n",
        "except KeyError:\n",
        "    print(\"Key not found.\")"
      ],
      "metadata": {
        "colab": {
          "base_uri": "https://localhost:8080/"
        },
        "id": "AUfyY6dzCeO8",
        "outputId": "ecbdae29-07c5-4c4a-e5c2-c7ed6f433bfa"
      },
      "execution_count": null,
      "outputs": [
        {
          "output_type": "stream",
          "name": "stdout",
          "text": [
            "Index out of range.\n"
          ]
        }
      ]
    },
    {
      "cell_type": "markdown",
      "source": [
        "###20.How would you open a file and read its contents using a context manager in Python?"
      ],
      "metadata": {
        "id": "TAu_XTecHAI6"
      }
    },
    {
      "cell_type": "code",
      "source": [
        "with open(\"my_file.txt\", \"r\") as f:\n",
        "    content = f.read()\n",
        "    print(content)"
      ],
      "metadata": {
        "colab": {
          "base_uri": "https://localhost:8080/"
        },
        "id": "QhAb6OjWHRsq",
        "outputId": "5a695a73-cebd-46ae-ecd0-5da33d2a7610"
      },
      "execution_count": null,
      "outputs": [
        {
          "output_type": "stream",
          "name": "stdout",
          "text": [
            "Hello, world!New data to append.\n"
          ]
        }
      ]
    },
    {
      "cell_type": "markdown",
      "source": [
        "###21.Write a Python program that reads a file and prints the number of occurrences of a specific word?"
      ],
      "metadata": {
        "id": "RdoWO97rHZYg"
      }
    },
    {
      "cell_type": "code",
      "source": [
        "word = \"example\"\n",
        "count = 0\n",
        "with open(\"my_file.txt\", \"r\") as f:\n",
        "    for line in f:\n",
        "        count += line.lower().split().count(word.lower())\n",
        "print(f\"The word '{word}' appears {count} times.\")"
      ],
      "metadata": {
        "colab": {
          "base_uri": "https://localhost:8080/"
        },
        "id": "9pFAAJKjHkIi",
        "outputId": "c6a47fe1-4464-45c2-f9fe-913e99e92a26"
      },
      "execution_count": null,
      "outputs": [
        {
          "output_type": "stream",
          "name": "stdout",
          "text": [
            "The word 'example' appears 0 times.\n"
          ]
        }
      ]
    },
    {
      "cell_type": "markdown",
      "source": [
        "###22. How can you check if a file is empty before attempting to read its contents?"
      ],
      "metadata": {
        "id": "GpG5LUpcHnCq"
      }
    },
    {
      "cell_type": "code",
      "source": [
        "import os\n",
        "\n",
        "if os.stat(\"my_file.txt\").st_size == 0:\n",
        "    print(\"File is empty.\")\n",
        "else:\n",
        "    with open(\"my_file.txt\", \"r\") as f:\n",
        "        content = f.read()\n",
        "        print(content)"
      ],
      "metadata": {
        "colab": {
          "base_uri": "https://localhost:8080/"
        },
        "id": "AkrCay8bHsTv",
        "outputId": "4bb5f914-4dc0-4d87-8b5e-9f2b67560d46"
      },
      "execution_count": null,
      "outputs": [
        {
          "output_type": "stream",
          "name": "stdout",
          "text": [
            "Hello, world!New data to append.\n"
          ]
        }
      ]
    },
    {
      "cell_type": "markdown",
      "source": [
        "###23. Write a Python program that writes to a log file when an error occurs during file handling?"
      ],
      "metadata": {
        "id": "REFlgyI2H4q4"
      }
    },
    {
      "cell_type": "code",
      "source": [
        "import logging\n",
        "\n",
        "logging.basicConfig(filename='file_errors.log', level=logging.ERROR)\n",
        "\n",
        "try:\n",
        "    with open(\"nonexistent_file.txt\", \"r\") as f:\n",
        "        content = f.read()\n",
        "except FileNotFoundError:\n",
        "    logging.error(\"File not found.\")"
      ],
      "metadata": {
        "colab": {
          "base_uri": "https://localhost:8080/"
        },
        "id": "3QZHj1KuIKYF",
        "outputId": "7a6d4bea-5e87-422b-8911-bca59e183c29"
      },
      "execution_count": null,
      "outputs": [
        {
          "output_type": "stream",
          "name": "stderr",
          "text": [
            "ERROR:root:File not found.\n"
          ]
        }
      ]
    }
  ]
}